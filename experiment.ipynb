{
 "cells": [
  {
   "cell_type": "markdown",
   "metadata": {},
   "source": [
    "# AIM-SR\n",
    "\n",
    "*Sign recognition demo using the BrainForge library*\n",
    "\n",
    "**Author**: Csaba Gór\n",
    "\n",
    "This notebook illustrates the usage of the *BrainForge* Neural Network library. The library can be obtained by issuing the following *pip* command:\n",
    "\n",
    "```pip install git+https://github.com/csxeba/brainforge.git```\n",
    "\n",
    "Since this demonstration also depends on other packages, a *conda* environment descriptor *YaML* file is supplied (*env.yml*). This environment can be set up by issuing the following *conda* command:\n",
    "\n",
    "```conda env create -f env.yml```"
   ]
  },
  {
   "cell_type": "code",
   "execution_count": 1,
   "metadata": {
    "pycharm": {
     "name": "#%%\n"
    }
   },
   "outputs": [],
   "source": [
    "import numpy as np\n",
    "\n",
    "from brainforge import Backpropagation, LayerStack\n",
    "from brainforge import layers, optimizers"
   ]
  },
  {
   "cell_type": "markdown",
   "metadata": {},
   "source": [
    "## Dataset\n",
    "\n",
    "The dataset which is going to be fit is a **road sign recognition** dataset, which can either be downloaded and extracted to this project's *data/* folder using the *data/get.sh* script or the dataset root can also be specified below if the dataset is already available.\n",
    "\n",
    "The model performance will be monitored on a validation subset, which is a 20% split from the training set. The validation set is always the last 20% of the images of every class, determined by the increasing sorting order of their file names."
   ]
  },
  {
   "cell_type": "code",
   "execution_count": 2,
   "metadata": {
    "pycharm": {
     "name": "#%%\n"
    }
   },
   "outputs": [],
   "source": [
    "DATASET_ROOT = \"data/train-52x52\""
   ]
  },
  {
   "cell_type": "code",
   "execution_count": 3,
   "metadata": {
    "pycharm": {
     "name": "#%%\n"
    }
   },
   "outputs": [
    {
     "name": "stdout",
     "output_type": "stream",
     "text": [
      " [Streamer] - Num train samples: 48000\n",
      " [Streamer] - Num val samples: 12000\n"
     ]
    }
   ],
   "source": [
    "import data\n",
    "\n",
    "dataset = data.Dataset(root=DATASET_ROOT, split_validation=0.2, image_format=\"channels_first\")"
   ]
  },
  {
   "cell_type": "markdown",
   "metadata": {},
   "source": [
    "## Model\n",
    "\n",
    "The data is fit by an *Artificial Neural Network*, more specifically a *Fully Convolutional Neural Network*, which has a relatively low number of parameters and thus (hopefully) generalizes better than a classic CNN with a Dense head.\n",
    "\n",
    "The network weights are optimized by *Stochastic Gradient Descent* on the gradients determined by *Backpropagation*. The model output activation and loss functions are chosen so that they reflect the *multiclass classification* nature of the problem. The optimizer is chosen to be the *Adam* optimizer [Kigma & Ba, 2015](https://arxiv.org/abs/1412.6980), which is more-or-less a default choice for the optimizer and tends to perform adequately."
   ]
  },
  {
   "cell_type": "code",
   "execution_count": 4,
   "metadata": {
    "pycharm": {
     "name": "#%%\n"
    }
   },
   "outputs": [],
   "source": [
    "stack = LayerStack(dataset.input_shape, layers=[\n",
    "    \n",
    "    layers.ConvLayer(nfilters=16, filterx=5, filtery=5, compiled=True),\n",
    "    layers.PoolLayer(filter_size=2, compiled=True),\n",
    "    layers.Activation(\"relu\"),\n",
    "\n",
    "    layers.ConvLayer(nfilters=32, filterx=5, filtery=5, compiled=True),\n",
    "    layers.Activation(\"relu\"),\n",
    "\n",
    "    layers.ConvLayer(nfilters=32, filterx=5, filtery=5, compiled=True),\n",
    "    layers.PoolLayer(filter_size=2, compiled=True),\n",
    "    layers.Activation(\"relu\"),\n",
    "\n",
    "    layers.ConvLayer(nfilters=dataset.NUM_CLASSES, filterx=5, filtery=5, compiled=True),\n",
    "\n",
    "    layers.GlobalAveragePooling(),\n",
    "    layers.Activation(\"softmax\"),\n",
    "])"
   ]
  },
  {
   "cell_type": "markdown",
   "metadata": {},
   "source": [
    "## Training\n",
    "\n",
    "The training takes about 1.5 hours and the network reaches over 99% accuracy on the validation set, which is unnaturally high and is caused probably by the fact that the validation set is highly similar to the training set.\n",
    "\n",
    "Below are the parameters for the training. Previous experiments showed that *6 epochs* are sufficient to reach convergence on this dataset. The relatively *low batch size* and *high learning rate* ensures the network jumps out of smaller local minima and finds a good optimum with good generalization. Together with the fully convolutional nature of the architecture, this produces sufficient regularization, so no additional regularization was required.\n",
    "\n",
    "A validation increase factor is applied to better monitor the development of the target KPI, which is the classification accuracy on the validation set."
   ]
  },
  {
   "cell_type": "code",
   "execution_count": 5,
   "metadata": {},
   "outputs": [],
   "source": [
    "EPOCHS = 6\n",
    "BATCH_SIZE = 10\n",
    "LEARNING_RATE = 1e-3\n",
    "VALIDATION_INCREASE_FACTOR = 4  # divides steps per epoch and multiplies epochs"
   ]
  },
  {
   "cell_type": "code",
   "execution_count": 6,
   "metadata": {
    "scrolled": true
   },
   "outputs": [
    {
     "name": "stdout",
     "output_type": "stream",
     "text": [
      "Epoch  1/24\n",
      "Training Progress: 100.0%  cost: 0.7427 accuracy: 0.7172 Validation cost: 0.4020 accuracy: 0.8469\n",
      " took 5.12 minutes\n",
      "Epoch  2/24\n",
      "Training Progress: 100.0%  cost: 0.3073 accuracy: 0.9009 Validation cost: 0.2532 accuracy: 0.9218\n",
      " took 4.61 minutes\n",
      "Epoch  3/24\n",
      "Training Progress: 100.0%  cost: 0.1960 accuracy: 0.9428 Validation cost: 0.1495 accuracy: 0.9641\n",
      " took 4.40 minutes\n",
      "Epoch  4/24\n",
      "Training Progress: 100.0%  cost: 0.1376 accuracy: 0.9616 Validation cost: 0.1293 accuracy: 0.9667\n",
      " took 4.23 minutes\n",
      "Epoch  5/24\n",
      "Training Progress: 100.0%  cost: 0.0997 accuracy: 0.9735 Validation cost: 0.1129 accuracy: 0.9657\n",
      " took 4.17 minutes\n",
      "Epoch  6/24\n",
      "Training Progress: 100.0%  cost: 0.0829 accuracy: 0.9788 Validation cost: 0.0681 accuracy: 0.9822\n",
      " took 4.06 minutes\n",
      "Epoch  7/24\n",
      "Training Progress: 100.0%  cost: 0.0674 accuracy: 0.9835 Validation cost: 0.0523 accuracy: 0.9889\n",
      " took 4.00 minutes\n",
      "Epoch  8/24\n",
      "Training Progress: 100.0%  cost: 0.0531 accuracy: 0.9863 Validation cost: 0.0466 accuracy: 0.9912\n",
      " took 3.97 minutes\n",
      "Epoch  9/24\n",
      "Training Progress: 100.0%  cost: 0.0406 accuracy: 0.9896 Validation cost: 0.0311 accuracy: 0.9936\n",
      " took 3.96 minutes\n",
      "Epoch 10/24\n",
      "Training Progress: 100.0%  cost: 0.0344 accuracy: 0.9924 Validation cost: 0.0420 accuracy: 0.9904\n",
      " took 3.94 minutes\n",
      "Epoch 11/24\n",
      "Training Progress: 100.0%  cost: 0.0297 accuracy: 0.9922 Validation cost: 0.0287 accuracy: 0.9948\n",
      " took 3.92 minutes\n",
      "Epoch 12/24\n",
      "Training Progress: 100.0%  cost: 0.0336 accuracy: 0.9918 Validation cost: 0.0395 accuracy: 0.9904\n",
      " took 3.90 minutes\n",
      "Epoch 13/24\n",
      "Training Progress: 100.0%  cost: 0.0249 accuracy: 0.9952 Validation cost: 0.0261 accuracy: 0.9936\n",
      " took 3.89 minutes\n",
      "Epoch 14/24\n",
      "Training Progress: 100.0%  cost: 0.0215 accuracy: 0.9950 Validation cost: 0.0203 accuracy: 0.9962\n",
      " took 3.90 minutes\n",
      "Epoch 15/24\n",
      "Training Progress: 100.0%  cost: 0.0166 accuracy: 0.9961 Validation cost: 0.0201 accuracy: 0.9952\n",
      " took 3.87 minutes\n",
      "Epoch 16/24\n",
      "Training Progress: 100.0%  cost: 0.0165 accuracy: 0.9960 Validation cost: 0.0833 accuracy: 0.9771\n",
      " took 3.88 minutes\n",
      "Epoch 17/24\n",
      "Training Progress: 100.0%  cost: 0.0157 accuracy: 0.9963 Validation cost: 0.0314 accuracy: 0.9879\n",
      " took 3.86 minutes\n",
      "Epoch 18/24\n",
      "Training Progress: 100.0%  cost: 0.0140 accuracy: 0.9959 Validation cost: 0.0152 accuracy: 0.9967\n",
      " took 3.85 minutes\n",
      "Epoch 19/24\n",
      "Training Progress: 100.0%  cost: 0.0088 accuracy: 0.9978 Validation cost: 0.0080 accuracy: 0.9982\n",
      " took 3.84 minutes\n",
      "Epoch 20/24\n",
      "Training Progress: 100.0%  cost: 0.0120 accuracy: 0.9978 Validation cost: 0.0135 accuracy: 0.9978\n",
      " took 3.87 minutes\n",
      "Epoch 21/24\n",
      "Training Progress: 100.0%  cost: 0.0098 accuracy: 0.9977 Validation cost: 0.0100 accuracy: 0.9983\n",
      " took 3.87 minutes\n",
      "Epoch 22/24\n",
      "Training Progress: 100.0%  cost: 0.0104 accuracy: 0.9973 Validation cost: 0.0076 accuracy: 0.9988\n",
      " took 3.85 minutes\n",
      "Epoch 23/24\n",
      "Training Progress: 100.0%  cost: 0.0096 accuracy: 0.9976 Validation cost: 0.0086 accuracy: 0.9984\n",
      " took 3.84 minutes\n",
      "Epoch 24/24\n",
      "Training Progress: 100.0%  cost: 0.0048 accuracy: 0.9990 Validation cost: 0.0128 accuracy: 0.9986\n",
      " took 3.84 minutes\n"
     ]
    }
   ],
   "source": [
    "trainer = Backpropagation(layerstack=stack, cost=\"cxent\", optimizer=optimizers.Adam(LEARNING_RATE))\n",
    "\n",
    "trainer.fit_generator(dataset.iter_subset(\"train\", BATCH_SIZE),\n",
    "                      lessons_per_epoch=dataset.steps_per_epoch(\"train\", BATCH_SIZE) // VALIDATION_INCREASE_FACTOR,\n",
    "                      epochs=EPOCHS * VALIDATION_INCREASE_FACTOR,\n",
    "                      metrics=[\"acc\"],\n",
    "                      validation=dataset.iter_subset(\"val\", BATCH_SIZE),\n",
    "                      validation_steps=dataset.steps_per_epoch(\"val\", BATCH_SIZE))\n",
    "\n",
    "# Save the weights as NumPy vector.\n",
    "weights = stack.get_weights(unfold=True)\n",
    "np.save(\"AIM-SR-weights.npy\", weights)"
   ]
  },
  {
   "cell_type": "markdown",
   "metadata": {},
   "source": [
    "Applying early stopping, regularization, augmentation, batch normalization and bigger architectures was considered, but rejected, because the score is already high enough, so no additional complexity was required."
   ]
  },
  {
   "cell_type": "markdown",
   "metadata": {},
   "source": [
    "## Inference\n",
    "\n",
    "Let's set up some functions to aid testing the network on arbitrary input images."
   ]
  },
  {
   "cell_type": "code",
   "execution_count": 7,
   "metadata": {},
   "outputs": [],
   "source": [
    "NETWORK_WEIGHTS = \"AIM-SR-weights.npy\"\n",
    "\n",
    "stack.set_weights(np.load(NETWORK_WEIGHTS), fold=True)\n",
    "\n",
    "def preprocess_image(image):\n",
    "    x = image / 255.  # Downscale to range 0. - 1.\n",
    "    x = x.transpose((2, 0, 1))  # Convert to channels first\n",
    "    return x[None, ...]  # Add a batch dimension\n",
    "\n",
    "def execute_inference(image: np.ndarray) -> int:\n",
    "    \"\"\"\n",
    "    Runs preprocessing, executes the network and returns an integer label.\n",
    "    Returned labels are indexed from 1, just like in the dataset.\n",
    "    \n",
    "    image: np.ndarray\n",
    "        Single BGR image as a 3D numpy array in channels last format.\n",
    "    \"\"\"\n",
    "    \n",
    "    x = preprocess_image(image)\n",
    "    output = stack.feedforward(x)[0]  # eliminate batch dim\n",
    "    prediction = np.argmax(output) + 1\n",
    "    return prediction\n"
   ]
  },
  {
   "cell_type": "markdown",
   "metadata": {},
   "source": [
    "Below is a demonstration on how to run inference on an arbitrary image and check whether the predicted label is correct."
   ]
  },
  {
   "cell_type": "code",
   "execution_count": 8,
   "metadata": {},
   "outputs": [
    {
     "data": {
      "image/png": "[encoded data removed]",
      "text/plain": [
       "<Figure size 432x288 with 1 Axes>"
      ]
     },
     "metadata": {
      "needs_background": "light"
     },
     "output_type": "display_data"
    }
   ],
   "source": [
    "import cv2\n",
    "from matplotlib import pyplot as plt\n",
    "\n",
    "# Paths are stored as pathlib.Path objects. Let's free the path strings from their misery.\n",
    "# Validation was split from the last 20% of every label, so taking the last image is OK\n",
    "# for this demostration. The network did not see this image during training.\n",
    "image_path = str(dataset.paths[-1])\n",
    "\n",
    "# Note that OpenCV reads the images in a BGR format by default,\n",
    "# which is not the case with eg. PIL, SciPy, ImageIO, etc.\n",
    "image = cv2.imread(image_path)\n",
    "\n",
    "# This is the label corresponding to the image above.\n",
    "label = dataset.labels[-1] + 1  # Restore 1-based indexing\n",
    "\n",
    "prediction = execute_inference(image)\n",
    "\n",
    "plt.imshow(image[..., ::-1])  # convert image to RGB\n",
    "plt.title(f\"Label: {label}\\nPrediction: {prediction}\")\n",
    "plt.show()"
   ]
  }
 ],
 "metadata": {
  "kernelspec": {
   "display_name": "Python 3",
   "language": "python",
   "name": "python3"
  },
  "language_info": {
   "codemirror_mode": {
    "name": "ipython",
    "version": 3
   },
   "file_extension": ".py",
   "mimetype": "text/x-python",
   "name": "python",
   "nbconvert_exporter": "python",
   "pygments_lexer": "ipython3",
   "version": "3.7.6"
  },
  "pycharm": {
   "stem_cell": {
    "cell_type": "raw",
    "metadata": {
     "collapsed": false
    },
    "source": []
   }
  }
 },
 "nbformat": 4,
 "nbformat_minor": 1
}
